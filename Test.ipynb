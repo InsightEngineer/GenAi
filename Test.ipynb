{
 "cells": [
  {
   "cell_type": "code",
   "execution_count": 18,
   "metadata": {},
   "outputs": [
    {
     "name": "stdout",
     "output_type": "stream",
     "text": [
      "Certainly! Here are some unique and exotic ways to spend your time in Maryland:\n",
      "\n",
      "1. Explore the Catoctin Mountain Park: This beautiful park is located near Thurmont and offers a range of outdoor activities including hiking, fishing, camping and more.\n",
      "\n",
      "2. Visit the National Aquarium in Baltimore: The National Aquarium is home to thousands of marine species and offers a range of interactive exhibits and activities for visitors of all ages.\n",
      "\n",
      "3. Take a hot air balloon ride: Enjoy beautiful views of the Maryland countryside from a hot air balloon. Companies like Light Flight Balloons and Southern Maryland Balloon Rides offer rides in various locations throughout the state.\n",
      "\n",
      "4. Go kayaking on the Eastern Shore: Rent a kayak and explore the beautiful waterways of the Eastern Shore. Companies like Eastern Shore Adventures offer guided tours and rentals.\n",
      "\n",
      "5. Visit the historic town of St. Michaels: Located on the Eastern Shore, St. Michaels is a charming town with beautiful historic homes, boutiques, and restaurants. It's a great place to spend an afternoon exploring.\n"
     ]
    }
   ],
   "source": [
    "import os\n",
    "from openai import AzureOpenAI\n",
    "\n",
    "client = AzureOpenAI(\n",
    "  api_key = os.getenv(\"AZURE_OPENAI_API_KEY\"),  \n",
    "  api_version = \"2024-02-01\",\n",
    "  azure_endpoint = os.getenv(\"AZURE_OPENAI_ENDPOINT\")\n",
    ")\n",
    "\n",
    "response = client.chat.completions.create(\n",
    "    model=\"gpt-35-turbo\", # model = \"deployment_name\".\n",
    "    messages=[\n",
    "        {\"role\": \"system\", \"content\": \"Assistant is a large language model trained by OpenAI.\"},\n",
    "        {\"role\": \"user\", \"content\": \"ok cool, OpenAI Assistant, can you provide me with some exotic pass time in maryland?\"},\n",
    "    ]\n",
    ")\n",
    "\n",
    "#print(response)\n",
    "# print(response.model_dump_json(indent=2))\n",
    "print(response.choices[0].message.content)"
   ]
  }
 ],
 "metadata": {
  "kernelspec": {
   "display_name": "GenAi",
   "language": "python",
   "name": "python3"
  },
  "language_info": {
   "codemirror_mode": {
    "name": "ipython",
    "version": 3
   },
   "file_extension": ".py",
   "mimetype": "text/x-python",
   "name": "python",
   "nbconvert_exporter": "python",
   "pygments_lexer": "ipython3",
   "version": "3.12.4"
  }
 },
 "nbformat": 4,
 "nbformat_minor": 2
}
